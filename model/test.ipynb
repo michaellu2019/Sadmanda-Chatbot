{
  "nbformat": 4,
  "nbformat_minor": 0,
  "metadata": {
    "colab": {
      "name": "test",
      "provenance": [],
      "collapsed_sections": []
    },
    "kernelspec": {
      "name": "python3",
      "display_name": "Python 3"
    },
    "accelerator": "GPU"
  },
  "cells": [
    {
      "cell_type": "code",
      "metadata": {
        "id": "MbJEZ4f3nIuk",
        "colab_type": "code",
        "colab": {}
      },
      "source": [
        "!pip install flask-ngrok"
      ],
      "execution_count": 0,
      "outputs": []
    },
    {
      "cell_type": "code",
      "metadata": {
        "id": "D4PQTV6gbpeN",
        "colab_type": "code",
        "colab": {}
      },
      "source": [
        "from train import predict, train_model, load_model\n",
        "from flask_ngrok import run_with_ngrok\n",
        "from flask import Flask, jsonify, request"
      ],
      "execution_count": 0,
      "outputs": []
    },
    {
      "cell_type": "code",
      "metadata": {
        "id": "6_OCG_NCc0rS",
        "colab_type": "code",
        "colab": {}
      },
      "source": [
        "load_model()"
      ],
      "execution_count": 0,
      "outputs": []
    },
    {
      "cell_type": "code",
      "metadata": {
        "id": "cTiHHzxem_E8",
        "colab_type": "code",
        "colab": {}
      },
      "source": [
        "app = Flask(__name__)\n",
        "run_with_ngrok(app)\n",
        "\n",
        "@app.route('/')\n",
        "def home():\n",
        "\treturn 'Hello world! - Sadmanda'\n",
        "\n",
        "@app.route('/api/chat', methods = ['GET'])\n",
        "def chat():\n",
        "  msg_dict = request.get_json()\n",
        "  speaker = msg_dict['speaker']\n",
        "  msg = msg_dict['msg']\n",
        "  \n",
        "  output = predict(msg)\n",
        "  \n",
        "  if output is not None:\n",
        "    return jsonify({'status': 'success', 'data': {'output': output}})\n",
        "  else:\n",
        "    return jsonify({'status': 'fail', 'data': {}})\n",
        "\n",
        "app.run()"
      ],
      "execution_count": 0,
      "outputs": []
    }
  ]
}